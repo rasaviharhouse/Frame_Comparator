{
 "cells": [
  {
   "cell_type": "markdown",
   "metadata": {
    "id": "view-in-github",
    "colab_type": "text"
   },
   "source": [
    "<a href=\"https://colab.research.google.com/github/rasaviharhouse/Frame_Comparator/blob/main/FrameComparator.ipynb\" target=\"_parent\"><img src=\"https://colab.research.google.com/assets/colab-badge.svg\" alt=\"Open In Colab\"/></a>"
   ]
  },
  {
   "cell_type": "code",
   "execution_count": 1,
   "metadata": {
    "collapsed": true,
    "id": "NMJWxnLJB0XC"
   },
   "outputs": [],
   "source": [
    "import numpy as np\n",
    "import pandas as pd\n",
    "import torch as nn\n",
    "import matplotlib.pyplot as plt\n",
    "from scipy.interpolate import make_interp_spline, BSpline"
   ]
  },
  {
   "cell_type": "code",
   "execution_count": 2,
   "outputs": [
    {
     "name": "stdout",
     "output_type": "stream",
     "text": [
      "      Frame  Id  Left  Top  Width  Height  Conf  x  y  z\n",
      "0         1   1  1367  393     73     225     1 -1 -1 -1\n",
      "1         1   2  1477  417     73     175     1 -1 -1 -1\n",
      "2         1   3   669  411     79     205     1 -1 -1 -1\n",
      "3         1   4  1219  409     47     121     1 -1 -1 -1\n",
      "4         1   5   469  431     71     175     1 -1 -1 -1\n",
      "...     ...  ..   ...  ...    ...     ...   ... .. .. ..\n",
      "6778    654   2  1237  331     55     141     1 -1 -1 -1\n",
      "6779    654   4   859  315     63     181     1 -1 -1 -1\n",
      "6780    654  15   931  333     61     161     1 -1 -1 -1\n",
      "6781    654  16  1607  301    107     263     1 -1 -1 -1\n",
      "6782    654  28  1161  339     35      73     1 -1 -1 -1\n",
      "\n",
      "[6783 rows x 10 columns]\n"
     ]
    }
   ],
   "source": [
    "df = pd.read_csv('MOT15Labels/train/ADL-Rundle-8/gt/gt.txt', names = ['Frame', 'Id', 'Left', 'Top', 'Width', 'Height', 'Conf', 'x', 'y', 'z'])\n",
    "print(df)"
   ],
   "metadata": {
    "colab": {
     "base_uri": "https://localhost:8080/"
    },
    "id": "keFU4Fm-B0XF",
    "outputId": "9f2c13cf-2866-4a77-879a-37d9ba930276"
   }
  },
  {
   "cell_type": "code",
   "execution_count": 3,
   "outputs": [],
   "source": [
    "def get_iou(bb1, bb2):\n",
    "    \"\"\"\n",
    "    Calculate the Intersection over Union (IoU) of two bounding boxes.\n",
    "\n",
    "    Parameters\n",
    "    ----------\n",
    "    bb1 : dict\n",
    "        Keys: {'x1', 'x2', 'y1', 'y2'}\n",
    "        The (x1, y1) position is at the top left corner,\n",
    "        the (x2, y2) position is at the bottom right corner\n",
    "    bb2 : dict\n",
    "        Keys: {'x1', 'x2', 'y1', 'y2'}\n",
    "        The (x, y) position is at the top left corner,\n",
    "        the (x2, y2) position is at the bottom right corner\n",
    "\n",
    "    Returns\n",
    "    -------\n",
    "    float\n",
    "        in [0, 1]\n",
    "    \"\"\"\n",
    "    assert bb1['x1'] < bb1['x2']\n",
    "    assert bb1['y1'] < bb1['y2']\n",
    "    assert bb2['x1'] < bb2['x2']\n",
    "    assert bb2['y1'] < bb2['y2']\n",
    "\n",
    "    # determine the coordinates of the intersection rectangle\n",
    "    x_left = max(bb1['x1'], bb2['x1'])\n",
    "    y_top = max(bb1['y1'], bb2['y1'])\n",
    "    x_right = min(bb1['x2'], bb2['x2'])\n",
    "    y_bottom = min(bb1['y2'], bb2['y2'])\n",
    "\n",
    "    if x_right < x_left or y_bottom < y_top:\n",
    "        return 0.0\n",
    "\n",
    "    # The intersection of two axis-aligned bounding boxes is always an\n",
    "    # axis-aligned bounding box\n",
    "    intersection_area = (x_right - x_left) * (y_bottom - y_top)\n",
    "\n",
    "    # compute the area of both AABBs\n",
    "    bb1_area = (bb1['x2'] - bb1['x1']) * (bb1['y2'] - bb1['y1'])\n",
    "    bb2_area = (bb2['x2'] - bb2['x1']) * (bb2['y2'] - bb2['y1'])\n",
    "\n",
    "    # compute the intersection over union by taking the intersection\n",
    "    # area and dividing it by the sum of prediction + ground-truth\n",
    "    # areas - the interesection area\n",
    "    iou = intersection_area / float(bb1_area + bb2_area - intersection_area)\n",
    "    assert iou >= 0.0\n",
    "    assert iou <= 1.0\n",
    "    return iou"
   ],
   "metadata": {
    "id": "CYmGsGGRB0XH"
   }
  },
  {
   "cell_type": "code",
   "execution_count": 4,
   "outputs": [
    {
     "data": {
      "text/plain": "1"
     },
     "execution_count": 4,
     "metadata": {},
     "output_type": "execute_result"
    }
   ],
   "source": [
    "frames_list = df['Frame'].unique()\n",
    "frames_list[0]"
   ],
   "metadata": {
    "colab": {
     "base_uri": "https://localhost:8080/"
    },
    "id": "7toT0xr4B0XH",
    "outputId": "548c8cad-4d5b-4cba-e891-326e15104adc"
   }
  },
  {
   "cell_type": "code",
   "source": [
    "frames_list[len(frames_list)-1]"
   ],
   "metadata": {
    "id": "RXbIl7XYHcsm",
    "colab": {
     "base_uri": "https://localhost:8080/"
    },
    "outputId": "5a5615a0-95de-4955-ee79-72d17eff9a76"
   },
   "execution_count": 5,
   "outputs": [
    {
     "data": {
      "text/plain": "654"
     },
     "execution_count": 5,
     "metadata": {},
     "output_type": "execute_result"
    }
   ]
  },
  {
   "cell_type": "code",
   "source": [
    "# in inference step\n",
    "from pandas.io.parsers.python_parser import DefaultDict\n",
    "similarity = DefaultDict(list)\n",
    "for i in range(1,frames_list[len(frames_list)-1]):\n",
    "  df1=df[df['Frame'] == frames_list[i-1]]\n",
    "  df2=df[df['Frame'] == frames_list[i]]\n",
    "\n",
    "  for id1 in range(len(df1)):\n",
    "    d1 = {\n",
    "      'x1': df1['Left'].iloc[id1],\n",
    "      'y1': df1['Top'].iloc[id1],\n",
    "      'x2': df1['Left'].iloc[id1] + df1['Width'].iloc[id1],\n",
    "      'y2': df1['Top'].iloc[id1] + df1['Height'].iloc[id1]\n",
    "    }\n",
    "    for id2 in range(len(df2)):\n",
    "      d2 = {\n",
    "          'x1': df2['Left'].iloc[id2],\n",
    "          'y1': df2['Top'].iloc[id2],\n",
    "          'x2': df2['Left'].iloc[id2] + df2['Width'].iloc[id2],\n",
    "          'y2': df2['Top'].iloc[id2] + df2['Height'].iloc[id2]\n",
    "      }\n",
    "      iou = get_iou(d1, d2)\n",
    "      # if(df1['Frame'].iloc[0]<2):\n",
    "      #   print(df1['Frame'].iloc[0], ':', id1, '-', id2, ':', iou)\n",
    "      if(iou>0.7):\n",
    "        similarity[(df2['Frame'].iloc[0], id2)].append((id1, iou))"
   ],
   "metadata": {
    "colab": {
     "base_uri": "https://localhost:8080/"
    },
    "id": "ymX6OZ0SKXJU",
    "outputId": "09c62c59-063b-4fdf-ff9e-09f5727a3d31"
   },
   "execution_count": 6,
   "outputs": []
  },
  {
   "cell_type": "code",
   "source": [
    "# for plotting graph\n",
    "from pandas.io.parsers.python_parser import DefaultDict\n",
    "\n",
    "similarity = DefaultDict(list)\n",
    "deduplication_precision = [0]*17\n",
    "total_comparison = [0]*17\n",
    "removed_objects = [0]*17\n",
    "correct_prediction = [0]*17\n",
    "thresholds = [i/100 for i in range(10, 95, 5)]\n",
    "\n",
    "for i in range(1,frames_list[len(frames_list)-1]):\n",
    "  df1=df[df['Frame'] == frames_list[i-1]]\n",
    "  df2=df[df['Frame'] == frames_list[i]]\n",
    "  removed_frame_object_ids = [set() for i in range(17)]\n",
    "  for id1 in range(len(df1)):\n",
    "    d1 = {\n",
    "      'x1': df1['Left'].iloc[id1],\n",
    "      'y1': df1['Top'].iloc[id1],\n",
    "      'x2': df1['Left'].iloc[id1] + df1['Width'].iloc[id1],\n",
    "      'y2': df1['Top'].iloc[id1] + df1['Height'].iloc[id1]\n",
    "    }\n",
    "\n",
    "    for id2 in range(len(df2)):\n",
    "      d2 = {\n",
    "          'x1': df2['Left'].iloc[id2],\n",
    "          'y1': df2['Top'].iloc[id2],\n",
    "          'x2': df2['Left'].iloc[id2] + df2['Width'].iloc[id2],\n",
    "          'y2': df2['Top'].iloc[id2] + df2['Height'].iloc[id2]\n",
    "      }\n",
    "      iou = get_iou(d1, d2)\n",
    "      similarity[(df2['Frame'].iloc[0], id2)].append((id1, iou))\n",
    "\n",
    "      for idx, threshold in enumerate(thresholds):\n",
    "        if(iou>threshold):\n",
    "          if(df2['Id'].iloc[id2] == df1['Id'].iloc[id1]):\n",
    "            correct_prediction[idx]+=1\n",
    "            removed_frame_object_ids[idx].add(df2['Id'].iloc[id2])\n",
    "          total_comparison[idx]+=1\n",
    "          removed_frame_object_ids[idx].add(df2['Id'].iloc[id2])\n",
    "\n",
    "  # if(i<3):\n",
    "  #   print(\"Trace\", removed_frame_object_ids)\n",
    "  for i in range(17):\n",
    "    removed_objects[i] += len(removed_frame_object_ids[i])\n",
    "\n",
    "print(\"No. of removed objects:\", removed_objects)\n",
    "\n",
    "deduplication_precision = [correct_prediction[i]*100/total_comparison[i] for i in range(17)]\n",
    "removed_object_ratio = [removed_objects[i]*100/len(df) for i in range(17)]\n",
    "\n",
    "# print(similarity)\n",
    "print(\"Deduplication precision:\", deduplication_precision)\n",
    "print(\"Removed object ratio:\", removed_object_ratio)"
   ],
   "metadata": {
    "id": "VcHAUhqT0Y8l",
    "colab": {
     "base_uri": "https://localhost:8080/"
    },
    "outputId": "88c51d18-bb20-473d-834b-6685a7995583"
   },
   "execution_count": 7,
   "outputs": [
    {
     "name": "stdout",
     "output_type": "stream",
     "text": [
      "No. of removed objects: [6765, 6761, 6760, 6758, 6757, 6757, 6757, 6752, 6724, 6710, 6677, 6580, 6449, 6161, 5700, 4939, 3672]\n",
      "Deduplication precision: [65.68455853753403, 69.56745623069001, 73.72039724980901, 77.4567136796239, 80.99520383693046, 84.45861465366342, 87.67034393251136, 90.83692142088267, 92.81867145421903, 94.60984901933116, 96.09735023041475, 97.49444032616753, 98.63851919840906, 99.43493703584113, 99.70258922323303, 99.85838559579203, 99.94553376906318]\n",
      "Removed object ratio: [99.73463069438301, 99.67565973757924, 99.6609169983783, 99.63143151997642, 99.61668878077546, 99.61668878077546, 99.61668878077546, 99.54297508477075, 99.13017838714433, 98.92378003833112, 98.43726964469998, 97.00722394220847, 95.07592510688485, 90.83001621701312, 84.03361344537815, 72.81438891346012, 54.13533834586466]\n"
     ]
    }
   ]
  },
  {
   "cell_type": "code",
   "source": [
    "idx"
   ],
   "metadata": {
    "colab": {
     "base_uri": "https://localhost:8080/"
    },
    "id": "qRERxwXi1QeI",
    "outputId": "b4b94b92-aa45-497e-aa94-74a80b8257a1"
   },
   "execution_count": 8,
   "outputs": [
    {
     "data": {
      "text/plain": "16"
     },
     "execution_count": 8,
     "metadata": {},
     "output_type": "execute_result"
    }
   ]
  },
  {
   "cell_type": "code",
   "source": [
    "a = np.linspace(0.1, 0.9, 17)\n",
    "a = list(range(10, 100, 5))\n",
    "thresholds = [i/100 for i in range(10, 95, 5)]\n",
    "thresholds"
   ],
   "metadata": {
    "colab": {
     "base_uri": "https://localhost:8080/"
    },
    "id": "NlBrEMgUzzyi",
    "outputId": "6ebc64bc-09a7-4479-a1f6-1a37af1f13f1"
   },
   "execution_count": 9,
   "outputs": [
    {
     "data": {
      "text/plain": "[0.1,\n 0.15,\n 0.2,\n 0.25,\n 0.3,\n 0.35,\n 0.4,\n 0.45,\n 0.5,\n 0.55,\n 0.6,\n 0.65,\n 0.7,\n 0.75,\n 0.8,\n 0.85,\n 0.9]"
     },
     "execution_count": 9,
     "metadata": {},
     "output_type": "execute_result"
    }
   ]
  },
  {
   "cell_type": "code",
   "source": [
    "fig, axs = plt.subplots(2, 1, figsize=(7, 7))\n",
    "np_Y_1 = np.array(deduplication_precision)\n",
    "np_X_1 = np.array(thresholds)\n",
    "axs[0].set_ylim([40, 102])\n",
    "axs[0].plot(np_X_1,np_Y_1, marker=\"o\")\n",
    "axs[0].grid(True)\n",
    "axs[0].set_xlabel(\"IoU Threshold\")\n",
    "axs[0].set_ylabel(\"Deduplication Precision(%)\")\n",
    "\n",
    "np_Y_2 = np.array(removed_object_ratio)\n",
    "np_X_2 = np.array(thresholds)\n",
    "axs[1].set_ylim([40, 102])\n",
    "axs[1].plot(np_X_2,np_Y_2, marker=\"o\")\n",
    "axs[1].grid(True)\n",
    "axs[1].set_xlabel(\"IoU Threshold\")\n",
    "axs[1].set_ylabel(\"Removed Objects Ratio(%)\")\n",
    "\n",
    "\n",
    "plt.savefig(\"plt1.eps\", format='eps')\n",
    "plt.show()\n"
   ],
   "metadata": {
    "colab": {
     "base_uri": "https://localhost:8080/"
    },
    "id": "VlQmYuTQ8Ar7",
    "outputId": "021eeb54-5e1f-41f9-d411-345113e7e20e"
   },
   "execution_count": 10,
   "outputs": [
    {
     "data": {
      "text/plain": "<Figure size 700x700 with 2 Axes>",
      "image/png": "[encoded data removed]"
     },
     "metadata": {},
     "output_type": "display_data"
    }
   ]
  },
  {
   "cell_type": "code",
   "source": [
    "np_Y = np.array(removed_object_ratio)\n",
    "np_X = np.array(thresholds)\n",
    "plt.plot(np_X,np_Y, marker=\"o\")\n",
    "plt.grid(True)\n",
    "plt.show()"
   ],
   "metadata": {
    "id": "O-lUqbQQ-jtd",
    "colab": {
     "base_uri": "https://localhost:8080/"
    },
    "outputId": "89900e61-a309-4209-a2fb-06eaeb7668f6"
   },
   "execution_count": 11,
   "outputs": [
    {
     "data": {
      "text/plain": "<Figure size 640x480 with 1 Axes>",
      "image/png": "[encoded data removed]"
     },
     "metadata": {},
     "output_type": "display_data"
    }
   ]
  },
  {
   "cell_type": "code",
   "source": [],
   "metadata": {
    "id": "dF7R8s_cQXeU"
   },
   "execution_count": 11,
   "outputs": []
  }
 ],
 "metadata": {
  "kernelspec": {
   "display_name": "Python 3",
   "language": "python",
   "name": "python3"
  },
  "language_info": {
   "codemirror_mode": {
    "name": "ipython",
    "version": 2
   },
   "file_extension": ".py",
   "mimetype": "text/x-python",
   "name": "python",
   "nbconvert_exporter": "python",
   "pygments_lexer": "ipython2",
   "version": "2.7.6"
  },
  "colab": {
   "provenance": [],
   "include_colab_link": true
  }
 },
 "nbformat": 4,
 "nbformat_minor": 0
}
